{
 "cells": [
  {
   "cell_type": "code",
   "execution_count": 2,
   "metadata": {
    "collapsed": false
   },
   "outputs": [
    {
     "name": "stdout",
     "output_type": "stream",
     "text": [
      "['n', 'na', 'nan', 'nana', 'n', 'na', 'b', 'ba', 'ban', 'bana', 'banan', 'banana']\n"
     ]
    },
    {
     "data": {
      "text/plain": [
       "12"
      ]
     },
     "execution_count": 2,
     "metadata": {},
     "output_type": "execute_result"
    }
   ],
   "source": [
    "# Get the list of all the words starting with vowels or consonants. Each letter is considered unique even if they\n",
    "# occure more than once.\n",
    "\n",
    "# find all occurence of a letter in string\n",
    "\n",
    "def find(s, ch):\n",
    "    return [i for i, ltr in enumerate(s) if ltr == ch]\n",
    "\n",
    "word = 'banana'\n",
    "\n",
    "vowels = ['a', 'e', 'i', 'o', 'u']\n",
    "\n",
    "vows = list(set([x for x in word if x in vowels]))\n",
    "conts = list(set([x for x in word if x not in vowels]))\n",
    "\n",
    "def count_method(word, kind):\n",
    "\n",
    "    count = 0\n",
    "    tmp = []\n",
    "    \n",
    "    for i in kind :\n",
    "\n",
    "        for j in find(word, i):\n",
    "\n",
    "\n",
    "            for k in range(j+1, len(word)+1):\n",
    "\n",
    "                tmp = tmp + [word[j:k]]\n",
    "\n",
    "                count += 1\n",
    "    print (tmp)\n",
    "    return count\n",
    "\n",
    "count_method(word, conts)\n",
    "            "
   ]
  }
 ],
 "metadata": {
  "anaconda-cloud": {},
  "kernelspec": {
   "display_name": "Python [Anaconda3]",
   "language": "python",
   "name": "Python [Anaconda3]"
  },
  "language_info": {
   "codemirror_mode": {
    "name": "ipython",
    "version": 3
   },
   "file_extension": ".py",
   "mimetype": "text/x-python",
   "name": "python",
   "nbconvert_exporter": "python",
   "pygments_lexer": "ipython3",
   "version": "3.5.2"
  }
 },
 "nbformat": 4,
 "nbformat_minor": 2
}
