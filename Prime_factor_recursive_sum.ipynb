{
 "cells": [
  {
   "cell_type": "code",
   "execution_count": 1,
   "metadata": {
    "collapsed": false
   },
   "outputs": [
    {
     "data": {
      "text/plain": [
       "5.0"
      ]
     },
     "execution_count": 1,
     "metadata": {},
     "output_type": "execute_result"
    }
   ],
   "source": [
    "# Find out the recursive sum of the prime factors of a number\n",
    "# for example for 100 = 2x2x5x5, total sum is 14, now find out the factor of 14 again --> 2x7 --now sum is 2+7 = 9\n",
    "# again factor of 9 --> 3X3, now sum is 6, and factors of 6 are 2x3 = so sum is 5 - the final answer as 5\n",
    "# is the prime number so won't go beyond that.\n",
    "\n",
    "import math\n",
    "\n",
    "def prime_factors_sum(n): \n",
    "    sum = 0 \n",
    "    # Print the number of two's that divide n \n",
    "    while n % 2 == 0:\n",
    "        sum = sum+ 2 \n",
    "        n = n / 2\n",
    "          \n",
    "    # n must be odd at this point \n",
    "    # so a skip of 2 ( i = i + 2) can be used \n",
    "    for i in range(3,int(math.sqrt(n))+1,2): \n",
    "          \n",
    "        # while i divides n , print i ad divide n \n",
    "        while n % i== 0:\n",
    "            sum = sum + i\n",
    "            n = n / i \n",
    "              \n",
    "    # Condition if n is a prime \n",
    "    # number greater than 2 \n",
    "    if n > 2: \n",
    "        sum = sum + n\n",
    "    \n",
    "    return sum\n",
    "\n",
    "def Prime_factor_recursive_sum(n):\n",
    "    \n",
    "    temp = prime_factors_sum(n)\n",
    "    \n",
    "    while prime_factors_sum(temp) != temp:\n",
    "        \n",
    "        temp = prime_factors_sum(temp)\n",
    "    \n",
    "    return temp\n",
    "\n",
    "Prime_factor_recursive_sum(100)"
   ]
  }
 ],
 "metadata": {
  "kernelspec": {
   "display_name": "Python [Anaconda3]",
   "language": "python",
   "name": "Python [Anaconda3]"
  },
  "language_info": {
   "codemirror_mode": {
    "name": "ipython",
    "version": 3
   },
   "file_extension": ".py",
   "mimetype": "text/x-python",
   "name": "python",
   "nbconvert_exporter": "python",
   "pygments_lexer": "ipython3",
   "version": "3.5.2"
  }
 },
 "nbformat": 4,
 "nbformat_minor": 2
}
