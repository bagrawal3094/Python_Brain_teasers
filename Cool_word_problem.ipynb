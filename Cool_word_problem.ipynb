{
 "cells": [
  {
   "cell_type": "code",
   "execution_count": 1,
   "metadata": {
    "collapsed": false
   },
   "outputs": [
    {
     "data": {
      "text/plain": [
       "True"
      ]
     },
     "execution_count": 1,
     "metadata": {},
     "output_type": "execute_result"
    }
   ],
   "source": [
    "# cool_word if adjacent letters are not of the same case\n",
    "def case_type(s):\n",
    "    \n",
    "    if s.isupper():\n",
    "        return 'U'\n",
    "    else:\n",
    "        return 'L'\n",
    "    \n",
    "s_check = 'aAbCdE'\n",
    "\n",
    "def cool_check(s):\n",
    "    \n",
    "    output = False\n",
    "    for i in range(len(s)-1):\n",
    "\n",
    "        if s_check[i] != ' ':\n",
    "\n",
    "            if case_type(s[i]) == case_type(s[i+1]):\n",
    "                output = False\n",
    "                break\n",
    "            else:\n",
    "                output = True\n",
    "    return output\n",
    "\n",
    "cool_check(s_check)"
   ]
  }
 ],
 "metadata": {
  "anaconda-cloud": {},
  "kernelspec": {
   "display_name": "Python [Anaconda3]",
   "language": "python",
   "name": "Python [Anaconda3]"
  },
  "language_info": {
   "codemirror_mode": {
    "name": "ipython",
    "version": 3
   },
   "file_extension": ".py",
   "mimetype": "text/x-python",
   "name": "python",
   "nbconvert_exporter": "python",
   "pygments_lexer": "ipython3",
   "version": "3.5.2"
  }
 },
 "nbformat": 4,
 "nbformat_minor": 2
}
