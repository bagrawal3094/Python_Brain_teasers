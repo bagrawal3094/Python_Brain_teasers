{
 "cells": [
  {
   "cell_type": "code",
   "execution_count": 1,
   "metadata": {
    "collapsed": false
   },
   "outputs": [
    {
     "data": {
      "text/plain": [
       "4"
      ]
     },
     "execution_count": 1,
     "metadata": {},
     "output_type": "execute_result"
    }
   ],
   "source": [
    "# Find out all the common letters between two strings. If the letters are repeating count them as an unique occurence.\n",
    "\n",
    "s2 = 'aaacd'\n",
    "s1 = 'aacd'\n",
    "\n",
    "# assuming S1> s2\n",
    "def common_letters(s1, s2):\n",
    "    char_count = 0\n",
    "    original_s1 = s1\n",
    "    for i in range(len(s1)):\n",
    "        \n",
    "        temp_char = original_s1[i]\n",
    "        \n",
    "        filt_s1 = [x for x in s1 if x != temp_char]\n",
    "        filt_s2 = [x for x in s2 if x != temp_char]\n",
    "        \n",
    "        len_filt_s1 = len(filt_s1)\n",
    "        len_filt_s2 = len(filt_s2)\n",
    "        \n",
    "        char_count = char_count + min(len(s1) - len_filt_s1, len(s2) - len_filt_s2)\n",
    "        \n",
    "        s1 = filt_s1\n",
    "        s2  = filt_s2\n",
    "        \n",
    "    return char_count\n",
    "        \n",
    "    \n",
    "common_letters(s1, s2)\n"
   ]
  }
 ],
 "metadata": {
  "kernelspec": {
   "display_name": "Python [Anaconda3]",
   "language": "python",
   "name": "Python [Anaconda3]"
  },
  "language_info": {
   "codemirror_mode": {
    "name": "ipython",
    "version": 3
   },
   "file_extension": ".py",
   "mimetype": "text/x-python",
   "name": "python",
   "nbconvert_exporter": "python",
   "pygments_lexer": "ipython3",
   "version": "3.5.2"
  }
 },
 "nbformat": 4,
 "nbformat_minor": 2
}
