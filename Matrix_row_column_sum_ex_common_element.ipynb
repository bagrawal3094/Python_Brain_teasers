{
 "cells": [
  {
   "cell_type": "code",
   "execution_count": 1,
   "metadata": {
    "collapsed": true
   },
   "outputs": [],
   "source": [
    "# retun sum of a column and row and remove the common element\n",
    "\n",
    "mylist = [[1,2,3], [2,3,3]]\n",
    "\n",
    "# matrix, transpose of a matrix\n",
    "\n",
    "def function(array, a ,b):\n",
    "    \n",
    "    sum_row = sum(array[a])\n",
    "    \n",
    "    trnspose_mtrx = [[x[i] for x in array] for i in range(len(array[0]))]\n",
    "    \n",
    "    sum_col = sum(trnspose_mtrx[b])\n",
    "    \n",
    "    return sum_row + sum_col - array[a][b]"
   ]
  }
 ],
 "metadata": {
  "anaconda-cloud": {},
  "kernelspec": {
   "display_name": "Python [Anaconda3]",
   "language": "python",
   "name": "Python [Anaconda3]"
  },
  "language_info": {
   "codemirror_mode": {
    "name": "ipython",
    "version": 3
   },
   "file_extension": ".py",
   "mimetype": "text/x-python",
   "name": "python",
   "nbconvert_exporter": "python",
   "pygments_lexer": "ipython3",
   "version": "3.5.2"
  }
 },
 "nbformat": 4,
 "nbformat_minor": 2
}
