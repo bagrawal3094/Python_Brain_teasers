{
 "cells": [
  {
   "cell_type": "code",
   "execution_count": 1,
   "metadata": {
    "collapsed": false
   },
   "outputs": [
    {
     "data": {
      "text/plain": [
       "[343, 4, 213, 7, 77, 8, 56, 45]"
      ]
     },
     "execution_count": 1,
     "metadata": {},
     "output_type": "execute_result"
    }
   ],
   "source": [
    "# given array, arrange them kth max, min sorting order\n",
    "\n",
    "# largest, smallest, 2nd largest, 2nd smallest, 3rd largest, smallest...and so on.\n",
    "\n",
    "check_list = [213,343,56,77,7,45,8,4,7,8,]\n",
    "\n",
    "filt_list = list(set(check_list))\n",
    "\n",
    "def max_min(s):\n",
    "    \n",
    "    return [max(s), min(s)]\n",
    "\n",
    "\n",
    "def kth_max_min(s):\n",
    "    \n",
    "    filt = s\n",
    "    output = []\n",
    "    while len(filt) > 0:\n",
    "    \n",
    "        temp = max_min(filt)\n",
    "        \n",
    "        filt = [x for x in filt if x not in temp]\n",
    "        \n",
    "        output = output + temp\n",
    "        \n",
    "    return output\n",
    "    \n",
    "kth_max_min(filt_list)"
   ]
  }
 ],
 "metadata": {
  "anaconda-cloud": {},
  "kernelspec": {
   "display_name": "Python [Anaconda3]",
   "language": "python",
   "name": "Python [Anaconda3]"
  },
  "language_info": {
   "codemirror_mode": {
    "name": "ipython",
    "version": 3
   },
   "file_extension": ".py",
   "mimetype": "text/x-python",
   "name": "python",
   "nbconvert_exporter": "python",
   "pygments_lexer": "ipython3",
   "version": "3.5.2"
  }
 },
 "nbformat": 4,
 "nbformat_minor": 2
}
