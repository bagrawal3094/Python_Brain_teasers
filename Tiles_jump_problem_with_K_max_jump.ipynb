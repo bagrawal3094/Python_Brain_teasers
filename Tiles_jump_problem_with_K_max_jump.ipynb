{
 "cells": [
  {
   "cell_type": "code",
   "execution_count": 1,
   "metadata": {
    "collapsed": false
   },
   "outputs": [
    {
     "data": {
      "text/plain": [
       "6"
      ]
     },
     "execution_count": 1,
     "metadata": {},
     "output_type": "execute_result"
    }
   ],
   "source": [
    "# Tiles jump problem\n",
    "# Start with the first element, and need to go to last element\n",
    "# You can jump upto K tiles at a time\n",
    "# Find out the max possible sum while jumping from start till end.\n",
    "# so for example : start with 2. You can jump only jump upto k=2 tiles at a time. In order to maxmize the sum you would\n",
    "# jump onto 4, and that becomes the reference point. so now the sum is 6, similary you would jump to 1 from 4.so \n",
    "# final sum 2+4+1+7+ -8 = 6\n",
    "\n",
    "a = [2, 4, -3,1, -5,7,-8]\n",
    "\n",
    "k=2\n",
    "\n",
    "def arry_print(a, k):\n",
    "    \n",
    "    flag = a[0]\n",
    "    j=0\n",
    "    for i in range(len(a)-1):\n",
    "\n",
    "        start = i+1\n",
    "        end = i+k+1\n",
    "        temp =  a[start: end]\n",
    "\n",
    "        if i == j:\n",
    "            flag = flag+ max(temp)\n",
    "            j = a.index(max(temp))\n",
    "        else:\n",
    "            flag = flag\n",
    "\n",
    "    return flag\n",
    "\n",
    "arry_print(a,k)"
   ]
  }
 ],
 "metadata": {
  "kernelspec": {
   "display_name": "Python [Anaconda3]",
   "language": "python",
   "name": "Python [Anaconda3]"
  },
  "language_info": {
   "codemirror_mode": {
    "name": "ipython",
    "version": 3
   },
   "file_extension": ".py",
   "mimetype": "text/x-python",
   "name": "python",
   "nbconvert_exporter": "python",
   "pygments_lexer": "ipython3",
   "version": "3.5.2"
  }
 },
 "nbformat": 4,
 "nbformat_minor": 2
}
