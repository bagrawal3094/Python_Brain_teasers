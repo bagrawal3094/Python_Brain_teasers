{
 "cells": [
  {
   "cell_type": "code",
   "execution_count": 2,
   "metadata": {
    "collapsed": false
   },
   "outputs": [
    {
     "data": {
      "text/plain": [
       "False"
      ]
     },
     "execution_count": 2,
     "metadata": {},
     "output_type": "execute_result"
    }
   ],
   "source": [
    "# to check if a number n is factorial of another number.\n",
    "\n",
    "def factorial(n):\n",
    "    \n",
    "    if n==0:\n",
    "        \n",
    "        return 1\n",
    "    else:\n",
    "        return n*factorial(n-1)\n",
    "\n",
    "def factorial_check(n):\n",
    "    \n",
    "    temp = 1\n",
    "    \n",
    "    while factorial(temp) <=  n:\n",
    "        \n",
    "        if factorial(temp) == n:\n",
    "            \n",
    "            return True\n",
    "            Break\n",
    "        else:\n",
    "            temp = temp +1\n",
    "    \n",
    "    return False\n",
    "        \n",
    "factorial_check(100)"
   ]
  }
 ],
 "metadata": {
  "anaconda-cloud": {},
  "kernelspec": {
   "display_name": "Python [Anaconda3]",
   "language": "python",
   "name": "Python [Anaconda3]"
  },
  "language_info": {
   "codemirror_mode": {
    "name": "ipython",
    "version": 3
   },
   "file_extension": ".py",
   "mimetype": "text/x-python",
   "name": "python",
   "nbconvert_exporter": "python",
   "pygments_lexer": "ipython3",
   "version": "3.5.2"
  }
 },
 "nbformat": 4,
 "nbformat_minor": 2
}
